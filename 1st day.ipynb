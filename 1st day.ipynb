{
  "nbformat": 4,
  "nbformat_minor": 0,
  "metadata": {
    "colab": {
      "name": "Untitled0.ipynb",
      "provenance": [],
      "collapsed_sections": [],
      "authorship_tag": "ABX9TyOSejj+6e4kIZ/NeZS4f9D/",
      "include_colab_link": true
    },
    "kernelspec": {
      "name": "python3",
      "display_name": "Python 3"
    },
    "language_info": {
      "name": "python"
    }
  },
  "cells": [
    {
      "cell_type": "markdown",
      "metadata": {
        "id": "view-in-github",
        "colab_type": "text"
      },
      "source": [
        "<a href=\"https://colab.research.google.com/github/Chakshu28sharma/PHYTHON/blob/main/1st%20day.ipynb\" target=\"_parent\"><img src=\"https://colab.research.google.com/assets/colab-badge.svg\" alt=\"Open In Colab\"/></a>"
      ]
    },
    {
      "cell_type": "code",
      "execution_count": 2,
      "metadata": {
        "colab": {
          "base_uri": "https://localhost:8080/"
        },
        "id": "I1zSCN9M5KsU",
        "outputId": "0a6125d1-afba-4cfc-8b86-6a1b8f72b82b"
      },
      "outputs": [
        {
          "output_type": "stream",
          "name": "stdout",
          "text": [
            "hello chakshu\n"
          ]
        }
      ],
      "source": [
        "print('hello chakshu')"
      ]
    },
    {
      "cell_type": "code",
      "source": [
        "print('Hello Chakshu\\nHow are you\\n I hope everything is good')"
      ],
      "metadata": {
        "colab": {
          "base_uri": "https://localhost:8080/"
        },
        "id": "hKVI8Ge0-GNW",
        "outputId": "7272c96e-3743-4722-d272-398cf4a4e3a8"
      },
      "execution_count": 4,
      "outputs": [
        {
          "output_type": "stream",
          "name": "stdout",
          "text": [
            "Hello Chakshu\n",
            "How are you\n",
            " I hope everything is good\n"
          ]
        }
      ]
    },
    {
      "cell_type": "code",
      "source": [
        "print('hello chakshu\\n    what about your family\\n I hope they are doing good too')"
      ],
      "metadata": {
        "colab": {
          "base_uri": "https://localhost:8080/"
        },
        "id": "lI8wfDLd-k_C",
        "outputId": "e2145f63-1fca-474f-d9c3-1b232a4b6b40"
      },
      "execution_count": 6,
      "outputs": [
        {
          "output_type": "stream",
          "name": "stdout",
          "text": [
            "hello chakshu\n",
            "    what about your family\n",
            " I hope they are doing good too\n"
          ]
        }
      ]
    },
    {
      "cell_type": "code",
      "source": [
        "print(\"Chakshu's life is good\")"
      ],
      "metadata": {
        "colab": {
          "base_uri": "https://localhost:8080/"
        },
        "id": "xdl6n3VZ_p4d",
        "outputId": "28fa565a-746d-43db-c2a4-97a9d6498c61"
      },
      "execution_count": 8,
      "outputs": [
        {
          "output_type": "stream",
          "name": "stdout",
          "text": [
            "Chakshu's life is good\n"
          ]
        }
      ]
    },
    {
      "cell_type": "code",
      "source": [
        "print('chakshu\\'s life is good')"
      ],
      "metadata": {
        "colab": {
          "base_uri": "https://localhost:8080/"
        },
        "id": "k4SSnzFcAUsy",
        "outputId": "ef4ac832-d659-4ffb-daf6-a244038a2062"
      },
      "execution_count": 10,
      "outputs": [
        {
          "output_type": "stream",
          "name": "stdout",
          "text": [
            "chakshu's life is good\n"
          ]
        }
      ]
    },
    {
      "cell_type": "code",
      "source": [
        ""
      ],
      "metadata": {
        "id": "a0i-ao65Ai1o"
      },
      "execution_count": null,
      "outputs": []
    }
  ]
}